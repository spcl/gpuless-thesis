{
 "cells": [
  {
   "cell_type": "code",
   "execution_count": 1,
   "metadata": {},
   "outputs": [],
   "source": [
    "import pandas as pd\n",
    "import numpy as np\n",
    "import matplotlib.pyplot as plt\n",
    "import glob"
   ]
  },
  {
   "cell_type": "markdown",
   "metadata": {},
   "source": [
    "*Only run next cell if you want to generate the data from the logs again*"
   ]
  },
  {
   "cell_type": "code",
   "execution_count": 44,
   "metadata": {},
   "outputs": [
    {
     "name": "stdout",
     "output_type": "stream",
     "text": [
      "latency\n",
      "hotspot\n",
      "bfs\n",
      "yolop\n",
      "dwt2d\n",
      "gaussian\n",
      "myocyte\n",
      "resnext101\n",
      "midas\n",
      "vgg19\n",
      "resnet50-py\n",
      "alexnet\n",
      "resnext50\n",
      "srad_v1\n",
      "pathfinder\n"
     ]
    }
   ],
   "source": [
    "# Get all the trace files\n",
    "files = glob.glob(\"../src/benchmarks/*/logs/arg_trace.log\")\n",
    "\n",
    "benchmark_names = [f.split(\"/\")[3] for f in files]\n",
    "\n",
    "df = pd.DataFrame()\n",
    "for file in files:\n",
    "    benchmark_name = file.split(\"/\")[3]\n",
    "    print(benchmark_name)\n",
    "    f = open(file, \"r\")\n",
    "    file_data = {\"call_id\": [], \"ts\": [], \"op\": [], \"args\": []}\n",
    "    # read every line and split it by spaces\n",
    "    counter = 0\n",
    "    for line in f:\n",
    "        if line == '\\n': continue\n",
    "        splitted_line = line.split(\" \")\n",
    "        # First element is in between []\n",
    "        file_data[\"ts\"].append(splitted_line[0][1:-1])\n",
    "        # Remove from second element everything that comes after the parenthesis\n",
    "        file_data[\"op\"].append(splitted_line[1].split(\"(\")[0])\n",
    "\n",
    "        # For now, put the rest in the arg\n",
    "        # If parenthesis in the string, add everything that is after the first\n",
    "        # parenthesis\n",
    "        if \"(\" in line:\n",
    "            file_data[\"args\"].append(line[line.find('('):].strip())\n",
    "        elif len(splitted_line) > 2:\n",
    "            file_data[\"args\"].append(\" \".join(splitted_line[2:]).strip())\n",
    "        else:\n",
    "            raise Exception(\"Parsing error: \", line)\n",
    "        \n",
    "        file_data[\"call_id\"].append(counter)\n",
    "        counter += 1\n",
    "        \n",
    "\n",
    "    file_df = pd.DataFrame(file_data)\n",
    "    # Multi level indexing, first level is the benchmark name\n",
    "\n",
    "    file_df[\"benchmark\"] = benchmark_name\n",
    "    df = pd.concat([df, file_df])\n",
    "\n",
    "df.set_index([\"benchmark\", \"call_id\"], inplace=True)\n",
    "df.to_pickle(\"traces.pkl\")"
   ]
  },
  {
   "cell_type": "code",
   "execution_count": 2,
   "metadata": {},
   "outputs": [
    {
     "name": "stdout",
     "output_type": "stream",
     "text": [
      "<class 'pandas.core.frame.DataFrame'>\n",
      "MultiIndex: 50525 entries, ('latency', 0) to ('pathfinder', 20)\n",
      "Data columns (total 3 columns):\n",
      " #   Column  Non-Null Count  Dtype \n",
      "---  ------  --------------  ----- \n",
      " 0   ts      50525 non-null  object\n",
      " 1   op      50525 non-null  object\n",
      " 2   args    50525 non-null  object\n",
      "dtypes: object(3)\n",
      "memory usage: 2.5+ MB\n"
     ]
    }
   ],
   "source": [
    "df = pd.read_pickle(\"traces.pkl\")\n",
    "df.info()"
   ]
  },
  {
   "cell_type": "code",
   "execution_count": 3,
   "metadata": {},
   "outputs": [
    {
     "data": {
      "text/plain": [
       "cudaMemcpy                                     15845\n",
       "Synchronization                                 8656\n",
       "cudaLaunchKernel                                7550\n",
       "cudaMemcpyAsync                                 2499\n",
       "cudaStreamSynchronize                           2498\n",
       "cudaThreadSynchronize                           2049\n",
       "cudnnCreateTensorDescriptor                     1326\n",
       "cudnnDestroyTensorDescriptor                    1326\n",
       "cudnnSetTensorNdDescriptor                      1326\n",
       "cudnnSetConvolutionMathType                      732\n",
       "cudnnSetStream                                   663\n",
       "cublasLtMatmulDescSetAttribute                   436\n",
       "cudnnCreateFilterDescriptor                      366\n",
       "cudnnSetFilterNdDescriptor                       366\n",
       "cudnnCreateConvolutionDescriptor                 366\n",
       "cudnnSetConvolutionNdDescriptor                  366\n",
       "cudnnSetConvolutionGroupCount                    366\n",
       "cudnnDestroyConvolutionDescriptor                366\n",
       "cudnnDestroyFilterDescriptor                     366\n",
       "cudnnConvolutionForward                          364\n",
       "cublasLtMatrixLayoutCreate                       327\n",
       "cublasLtMatrixLayoutDestroy                      327\n",
       "cudnnBatchNormalizationForwardInference          297\n",
       "cudaMalloc                                       294\n",
       "cublasSetStream_v2                               157\n",
       "cublasSetMathMode                                157\n",
       "cudnnGetConvolutionForwardAlgorithm_v7           137\n",
       "Number                                           115\n",
       "cublasLtMatmulDescCreate                         109\n",
       "cublasLtMatmulPreferenceCreate                   109\n",
       "cublasLtMatmulPreferenceSetAttribute             109\n",
       "cublasLtMatmulAlgoGetHeuristic                   109\n",
       "cublasLtMatmul                                   109\n",
       "cublasLtMatmulPreferenceDestroy                  109\n",
       "cublasLtMatmulDescDestroy                        109\n",
       "cublasSgemmStridedBatched                         48\n",
       "cudaFree                                          42\n",
       "cudaGetDeviceProperties                            8\n",
       "cudnnCreate                                        7\n",
       "cublasCreate_v2                                    6\n",
       "cudaDeviceGetAttribute                             3\n",
       "cudnnGetConvolutionBackwardDataAlgorithm_v7        2\n",
       "cudnnConvolutionBackwardData                       2\n",
       "cudaFuncGetAttributes                              1\n",
       "Name: op, dtype: int64"
      ]
     },
     "execution_count": 3,
     "metadata": {},
     "output_type": "execute_result"
    }
   ],
   "source": [
    "# Quickly look at most used operations\n",
    "df[\"op\"].value_counts()"
   ]
  },
  {
   "cell_type": "code",
   "execution_count": 4,
   "metadata": {},
   "outputs": [
    {
     "data": {
      "text/plain": [
       "benchmark\n",
       "myocyte        7808\n",
       "yolop           368\n",
       "srad_v1         225\n",
       "midas           115\n",
       "resnext101       51\n",
       "resnet50-py      44\n",
       "vgg19            25\n",
       "alexnet          13\n",
       "pathfinder        7\n",
       "Name: op, dtype: int64"
      ]
     },
     "execution_count": 4,
     "metadata": {},
     "output_type": "execute_result"
    }
   ],
   "source": [
    "# Look at the benchmark with the most synchronous calls\n",
    "df.loc[df[\"op\"] == \"Synchronization\"].groupby(\"benchmark\").count().sort_values(\"op\", ascending=False)['op']"
   ]
  },
  {
   "cell_type": "code",
   "execution_count": 171,
   "metadata": {},
   "outputs": [
    {
     "data": {
      "text/plain": [
       "<matplotlib.legend.Legend at 0x7ff707bcce80>"
      ]
     },
     "execution_count": 171,
     "metadata": {},
     "output_type": "execute_result"
    },
    {
     "data": {
      "image/png": "[encoded data removed]",
      "text/plain": [
       "<Figure size 640x480 with 1 Axes>"
      ]
     },
     "metadata": {},
     "output_type": "display_data"
    }
   ],
   "source": [
    "# Look at the distribution of the distance between synchronous calls in the benchmarks\n",
    "dist = df.loc[df[\"op\"] == \"Synchronization\"]\n",
    "dist = dist.reset_index('call_id')['call_id'].diff().dropna()\n",
    "dist = dist[dist > 0]\n",
    "for group in dist.groupby(\"benchmark\"):\n",
    "    group_name = group[0]\n",
    "    plt.hist(group[1], bins=100, label=group_name)\n",
    "\n",
    "plt.xlim(0, 100)\n",
    "plt.ylim(0, 100)\n",
    "plt.legend()\n",
    "\n",
    "# for benchmark in dist.index.levels[0]:\n",
    "    # dist.loc[benchmark].plot.hist(bins=100, alpha=0.5, label=benchmark)"
   ]
  },
  {
   "cell_type": "code",
   "execution_count": 181,
   "metadata": {},
   "outputs": [
    {
     "data": {
      "text/plain": [
       "('Percentage of same consecutive in between synch calls lenght',\n",
       " 0.03469411356539841)"
      ]
     },
     "execution_count": 181,
     "metadata": {},
     "output_type": "execute_result"
    }
   ],
   "source": [
    "# Number of consecutive diff in synchronous calls\n",
    "dist = df.loc[df[\"op\"] == \"Synchronization\"]\n",
    "dist = dist.reset_index('call_id')['call_id'].diff().dropna()\n",
    "dist = dist[dist > 0]\n",
    "\n",
    "\"Percentage of same consecutive in between synch calls lenght\", (dist.diff() == 0).sum() / len(dist)"
   ]
  },
  {
   "cell_type": "code",
   "execution_count": 12,
   "metadata": {},
   "outputs": [
    {
     "data": {
      "text/html": [
       "<div>\n",
       "<style scoped>\n",
       "    .dataframe tbody tr th:only-of-type {\n",
       "        vertical-align: middle;\n",
       "    }\n",
       "\n",
       "    .dataframe tbody tr th {\n",
       "        vertical-align: top;\n",
       "    }\n",
       "\n",
       "    .dataframe thead th {\n",
       "        text-align: right;\n",
       "    }\n",
       "</style>\n",
       "<table border=\"1\" class=\"dataframe\">\n",
       "  <thead>\n",
       "    <tr style=\"text-align: right;\">\n",
       "      <th></th>\n",
       "      <th></th>\n",
       "      <th>ts</th>\n",
       "      <th>op</th>\n",
       "      <th>args</th>\n",
       "    </tr>\n",
       "    <tr>\n",
       "      <th>benchmark</th>\n",
       "      <th>call_id</th>\n",
       "      <th></th>\n",
       "      <th></th>\n",
       "      <th></th>\n",
       "    </tr>\n",
       "  </thead>\n",
       "  <tbody>\n",
       "    <tr>\n",
       "      <th rowspan=\"3\" valign=\"top\">latency</th>\n",
       "      <th>0</th>\n",
       "      <td>23:31:55:398:398487</td>\n",
       "      <td>cudaMalloc</td>\n",
       "      <td>(D0 (0), 4 bytes)</td>\n",
       "    </tr>\n",
       "    <tr>\n",
       "      <th>1</th>\n",
       "      <td>23:31:56:617:617045</td>\n",
       "      <td>cudaMemcpy</td>\n",
       "      <td>(cudaMemcpyHostToDevice) D1(0x7f2645600000) &lt;-...</td>\n",
       "    </tr>\n",
       "    <tr>\n",
       "      <th>2</th>\n",
       "      <td>23:31:56:617:617084</td>\n",
       "      <td>cudaMemcpy</td>\n",
       "      <td>(cudaMemcpyDeviceToHost, H0(0x7ffeaf8d3554) &lt;-...</td>\n",
       "    </tr>\n",
       "    <tr>\n",
       "      <th rowspan=\"2\" valign=\"top\">hotspot</th>\n",
       "      <th>0</th>\n",
       "      <td>23:30:44:926:926885</td>\n",
       "      <td>cudaMalloc</td>\n",
       "      <td>(D0 (0), 100000 bytes)</td>\n",
       "    </tr>\n",
       "    <tr>\n",
       "      <th>1</th>\n",
       "      <td>23:30:46:112:112985</td>\n",
       "      <td>cudaMalloc</td>\n",
       "      <td>(D0 (0), 100000 bytes)</td>\n",
       "    </tr>\n",
       "    <tr>\n",
       "      <th>...</th>\n",
       "      <th>...</th>\n",
       "      <td>...</td>\n",
       "      <td>...</td>\n",
       "      <td>...</td>\n",
       "    </tr>\n",
       "    <tr>\n",
       "      <th rowspan=\"5\" valign=\"top\">pathfinder</th>\n",
       "      <th>16</th>\n",
       "      <td>12:32:53:078:078479</td>\n",
       "      <td>cudaFree</td>\n",
       "      <td>( devPtr:{0x7ffa32000000} )</td>\n",
       "    </tr>\n",
       "    <tr>\n",
       "      <th>17</th>\n",
       "      <td>12:32:53:078:078710</td>\n",
       "      <td>Synchronization</td>\n",
       "      <td>5.</td>\n",
       "    </tr>\n",
       "    <tr>\n",
       "      <th>18</th>\n",
       "      <td>12:32:53:078:078720</td>\n",
       "      <td>cudaFree</td>\n",
       "      <td>( devPtr:{0x7ffa37600000} )</td>\n",
       "    </tr>\n",
       "    <tr>\n",
       "      <th>19</th>\n",
       "      <td>12:32:53:078:078733</td>\n",
       "      <td>Synchronization</td>\n",
       "      <td>6.</td>\n",
       "    </tr>\n",
       "    <tr>\n",
       "      <th>20</th>\n",
       "      <td>12:32:53:078:078737</td>\n",
       "      <td>cudaFree</td>\n",
       "      <td>( devPtr:{0x7ffa37661c00} )</td>\n",
       "    </tr>\n",
       "  </tbody>\n",
       "</table>\n",
       "<p>50525 rows × 3 columns</p>\n",
       "</div>"
      ],
      "text/plain": [
       "                                     ts               op  \\\n",
       "benchmark  call_id                                         \n",
       "latency    0        23:31:55:398:398487       cudaMalloc   \n",
       "           1        23:31:56:617:617045       cudaMemcpy   \n",
       "           2        23:31:56:617:617084       cudaMemcpy   \n",
       "hotspot    0        23:30:44:926:926885       cudaMalloc   \n",
       "           1        23:30:46:112:112985       cudaMalloc   \n",
       "...                                 ...              ...   \n",
       "pathfinder 16       12:32:53:078:078479         cudaFree   \n",
       "           17       12:32:53:078:078710  Synchronization   \n",
       "           18       12:32:53:078:078720         cudaFree   \n",
       "           19       12:32:53:078:078733  Synchronization   \n",
       "           20       12:32:53:078:078737         cudaFree   \n",
       "\n",
       "                                                                 args  \n",
       "benchmark  call_id                                                     \n",
       "latency    0                                        (D0 (0), 4 bytes)  \n",
       "           1        (cudaMemcpyHostToDevice) D1(0x7f2645600000) <-...  \n",
       "           2        (cudaMemcpyDeviceToHost, H0(0x7ffeaf8d3554) <-...  \n",
       "hotspot    0                                   (D0 (0), 100000 bytes)  \n",
       "           1                                   (D0 (0), 100000 bytes)  \n",
       "...                                                               ...  \n",
       "pathfinder 16                             ( devPtr:{0x7ffa32000000} )  \n",
       "           17                                                      5.  \n",
       "           18                             ( devPtr:{0x7ffa37600000} )  \n",
       "           19                                                      6.  \n",
       "           20                             ( devPtr:{0x7ffa37661c00} )  \n",
       "\n",
       "[50525 rows x 3 columns]"
      ]
     },
     "execution_count": 12,
     "metadata": {},
     "output_type": "execute_result"
    }
   ],
   "source": [
    "df"
   ]
  },
  {
   "cell_type": "code",
   "execution_count": 61,
   "metadata": {},
   "outputs": [
    {
     "name": "stdout",
     "output_type": "stream",
     "text": [
      "alexnet\n",
      "bfs\n",
      "dwt2d\n",
      "gaussian\n"
     ]
    },
    {
     "name": "stderr",
     "output_type": "stream",
     "text": [
      "/home/samrusso/.local/lib/python3.8/site-packages/numpy/core/fromnumeric.py:3199: VisibleDeprecationWarning: Creating an ndarray from ragged nested sequences (which is a list-or-tuple of lists-or-tuples-or ndarrays with different lengths or shapes) is deprecated. If you meant to do this, you must specify 'dtype=object' when creating the ndarray.\n",
      "  return asarray(a).ndim\n",
      "/home/samrusso/.local/lib/python3.8/site-packages/pandas/core/dtypes/cast.py:883: VisibleDeprecationWarning: Creating an ndarray from ragged nested sequences (which is a list-or-tuple of lists-or-tuples-or ndarrays with different lengths or shapes) is deprecated. If you meant to do this, you must specify 'dtype=object' when creating the ndarray.\n",
      "  element = np.asarray(element)\n",
      "/home/samrusso/.local/lib/python3.8/site-packages/pandas/core/internals/blocks.py:924: VisibleDeprecationWarning: Creating an ndarray from ragged nested sequences (which is a list-or-tuple of lists-or-tuples-or ndarrays with different lengths or shapes) is deprecated. If you meant to do this, you must specify 'dtype=object' when creating the ndarray.\n",
      "  arr_value = np.asarray(value)\n"
     ]
    },
    {
     "name": "stdout",
     "output_type": "stream",
     "text": [
      "hotspot\n",
      "latency\n",
      "midas\n"
     ]
    },
    {
     "name": "stderr",
     "output_type": "stream",
     "text": [
      "/home/samrusso/.local/lib/python3.8/site-packages/numpy/core/fromnumeric.py:3199: VisibleDeprecationWarning: Creating an ndarray from ragged nested sequences (which is a list-or-tuple of lists-or-tuples-or ndarrays with different lengths or shapes) is deprecated. If you meant to do this, you must specify 'dtype=object' when creating the ndarray.\n",
      "  return asarray(a).ndim\n",
      "/home/samrusso/.local/lib/python3.8/site-packages/pandas/core/internals/blocks.py:924: VisibleDeprecationWarning: Creating an ndarray from ragged nested sequences (which is a list-or-tuple of lists-or-tuples-or ndarrays with different lengths or shapes) is deprecated. If you meant to do this, you must specify 'dtype=object' when creating the ndarray.\n",
      "  arr_value = np.asarray(value)\n"
     ]
    },
    {
     "name": "stdout",
     "output_type": "stream",
     "text": [
      "myocyte\n"
     ]
    },
    {
     "name": "stderr",
     "output_type": "stream",
     "text": [
      "/home/samrusso/.local/lib/python3.8/site-packages/numpy/core/fromnumeric.py:3199: VisibleDeprecationWarning: Creating an ndarray from ragged nested sequences (which is a list-or-tuple of lists-or-tuples-or ndarrays with different lengths or shapes) is deprecated. If you meant to do this, you must specify 'dtype=object' when creating the ndarray.\n",
      "  return asarray(a).ndim\n",
      "/home/samrusso/.local/lib/python3.8/site-packages/pandas/core/internals/blocks.py:924: VisibleDeprecationWarning: Creating an ndarray from ragged nested sequences (which is a list-or-tuple of lists-or-tuples-or ndarrays with different lengths or shapes) is deprecated. If you meant to do this, you must specify 'dtype=object' when creating the ndarray.\n",
      "  arr_value = np.asarray(value)\n",
      "/home/samrusso/.local/lib/python3.8/site-packages/numpy/core/fromnumeric.py:3199: VisibleDeprecationWarning: Creating an ndarray from ragged nested sequences (which is a list-or-tuple of lists-or-tuples-or ndarrays with different lengths or shapes) is deprecated. If you meant to do this, you must specify 'dtype=object' when creating the ndarray.\n",
      "  return asarray(a).ndim\n",
      "/home/samrusso/.local/lib/python3.8/site-packages/pandas/core/internals/blocks.py:924: VisibleDeprecationWarning: Creating an ndarray from ragged nested sequences (which is a list-or-tuple of lists-or-tuples-or ndarrays with different lengths or shapes) is deprecated. If you meant to do this, you must specify 'dtype=object' when creating the ndarray.\n",
      "  arr_value = np.asarray(value)\n"
     ]
    },
    {
     "name": "stdout",
     "output_type": "stream",
     "text": [
      "pathfinder\n",
      "resnet50-py\n"
     ]
    },
    {
     "name": "stderr",
     "output_type": "stream",
     "text": [
      "/home/samrusso/.local/lib/python3.8/site-packages/numpy/core/fromnumeric.py:3199: VisibleDeprecationWarning: Creating an ndarray from ragged nested sequences (which is a list-or-tuple of lists-or-tuples-or ndarrays with different lengths or shapes) is deprecated. If you meant to do this, you must specify 'dtype=object' when creating the ndarray.\n",
      "  return asarray(a).ndim\n",
      "/home/samrusso/.local/lib/python3.8/site-packages/pandas/core/internals/blocks.py:924: VisibleDeprecationWarning: Creating an ndarray from ragged nested sequences (which is a list-or-tuple of lists-or-tuples-or ndarrays with different lengths or shapes) is deprecated. If you meant to do this, you must specify 'dtype=object' when creating the ndarray.\n",
      "  arr_value = np.asarray(value)\n"
     ]
    },
    {
     "name": "stdout",
     "output_type": "stream",
     "text": [
      "resnext101\n"
     ]
    },
    {
     "name": "stderr",
     "output_type": "stream",
     "text": [
      "/home/samrusso/.local/lib/python3.8/site-packages/numpy/core/fromnumeric.py:3199: VisibleDeprecationWarning: Creating an ndarray from ragged nested sequences (which is a list-or-tuple of lists-or-tuples-or ndarrays with different lengths or shapes) is deprecated. If you meant to do this, you must specify 'dtype=object' when creating the ndarray.\n",
      "  return asarray(a).ndim\n",
      "/home/samrusso/.local/lib/python3.8/site-packages/pandas/core/internals/blocks.py:924: VisibleDeprecationWarning: Creating an ndarray from ragged nested sequences (which is a list-or-tuple of lists-or-tuples-or ndarrays with different lengths or shapes) is deprecated. If you meant to do this, you must specify 'dtype=object' when creating the ndarray.\n",
      "  arr_value = np.asarray(value)\n"
     ]
    },
    {
     "name": "stdout",
     "output_type": "stream",
     "text": [
      "resnext50\n",
      "srad_v1\n"
     ]
    },
    {
     "name": "stderr",
     "output_type": "stream",
     "text": [
      "/home/samrusso/.local/lib/python3.8/site-packages/numpy/core/fromnumeric.py:3199: VisibleDeprecationWarning: Creating an ndarray from ragged nested sequences (which is a list-or-tuple of lists-or-tuples-or ndarrays with different lengths or shapes) is deprecated. If you meant to do this, you must specify 'dtype=object' when creating the ndarray.\n",
      "  return asarray(a).ndim\n",
      "/home/samrusso/.local/lib/python3.8/site-packages/pandas/core/internals/blocks.py:924: VisibleDeprecationWarning: Creating an ndarray from ragged nested sequences (which is a list-or-tuple of lists-or-tuples-or ndarrays with different lengths or shapes) is deprecated. If you meant to do this, you must specify 'dtype=object' when creating the ndarray.\n",
      "  arr_value = np.asarray(value)\n",
      "/home/samrusso/.local/lib/python3.8/site-packages/numpy/core/fromnumeric.py:3199: VisibleDeprecationWarning: Creating an ndarray from ragged nested sequences (which is a list-or-tuple of lists-or-tuples-or ndarrays with different lengths or shapes) is deprecated. If you meant to do this, you must specify 'dtype=object' when creating the ndarray.\n",
      "  return asarray(a).ndim\n",
      "/home/samrusso/.local/lib/python3.8/site-packages/pandas/core/internals/blocks.py:924: VisibleDeprecationWarning: Creating an ndarray from ragged nested sequences (which is a list-or-tuple of lists-or-tuples-or ndarrays with different lengths or shapes) is deprecated. If you meant to do this, you must specify 'dtype=object' when creating the ndarray.\n",
      "  arr_value = np.asarray(value)\n"
     ]
    },
    {
     "name": "stdout",
     "output_type": "stream",
     "text": [
      "vgg19\n",
      "yolop\n"
     ]
    },
    {
     "name": "stderr",
     "output_type": "stream",
     "text": [
      "/home/samrusso/.local/lib/python3.8/site-packages/numpy/core/fromnumeric.py:3199: VisibleDeprecationWarning: Creating an ndarray from ragged nested sequences (which is a list-or-tuple of lists-or-tuples-or ndarrays with different lengths or shapes) is deprecated. If you meant to do this, you must specify 'dtype=object' when creating the ndarray.\n",
      "  return asarray(a).ndim\n",
      "/home/samrusso/.local/lib/python3.8/site-packages/pandas/core/internals/blocks.py:924: VisibleDeprecationWarning: Creating an ndarray from ragged nested sequences (which is a list-or-tuple of lists-or-tuples-or ndarrays with different lengths or shapes) is deprecated. If you meant to do this, you must specify 'dtype=object' when creating the ndarray.\n",
      "  arr_value = np.asarray(value)\n"
     ]
    }
   ],
   "source": [
    "# Look if they are repetitive patterns with the synch calls as a starting point\n",
    "unique_operations = df[\"op\"].unique()\n",
    "op_to_id_map = {op: value for value, op in zip(range(len(unique_operations)), unique_operations)}\n",
    "df = df.assign(op_id=lambda x: x[\"op\"].map(op_to_id_map))\n",
    "\n",
    "# Insert nan for sequence\n",
    "df[\"sequence\"] = np.nan\n",
    "\n",
    "for benchmark in df.index.levels[0]:\n",
    "    print(benchmark)\n",
    "    benchmark_df = df.loc[benchmark]\n",
    "    pattern_data = {'call_id': [], 'sequence': []}\n",
    "    sequence = []\n",
    "    for idx, row in benchmark_df.iterrows():\n",
    "        if row[\"op\"] == \"Synchronization\":\n",
    "            pattern_data['call_id'].append(idx)\n",
    "            pattern_data['sequence'].append(sequence)\n",
    "            sequence = []\n",
    "        else:\n",
    "            sequence.append(row[\"op_id\"])\n",
    "\n",
    "    df.loc[(benchmark, pattern_data['call_id']), 'sequence'] = pattern_data['sequence']"
   ]
  },
  {
   "cell_type": "code",
   "execution_count": 72,
   "metadata": {},
   "outputs": [
    {
     "name": "stdout",
     "output_type": "stream",
     "text": [
      "alexnet\n",
      "[0, 6, 7, 6, 7]                                                                                                                                                                                                                                                                                     2\n",
      "[18, 19, 17, 20, 21, 22, 23, 23, 2, 2, 2, 9, 10, 11, 12, 13, 10, 11, 14, 15, 16, 17]                                                                                                                                                                                                                2\n",
      "[18, 19, 17, 20, 21, 22, 23, 23, 2, 2, 9, 10, 11, 12, 13, 10, 11, 14, 15, 16, 17]                                                                                                                                                                                                                   2\n",
      "[]                                                                                                                                                                                                                                                                                                  1\n",
      "[5]                                                                                                                                                                                                                                                                                                 1\n",
      "[0, 6, 7, 6, 7, 6, 7]                                                                                                                                                                                                                                                                               1\n",
      "[0, 6, 7, 6, 7, 6, 7, 6, 7, 6, 7, 6, 7, 6, 7, 6, 7]                                                                                                                                                                                                                                                 1\n",
      "[0, 6, 7, 6, 7, 8, 9, 10, 11, 12, 13, 10, 11, 14, 15, 16, 17]                                                                                                                                                                                                                                       1\n",
      "[18, 19, 17, 20, 21, 22, 23, 23, 2, 2, 2, 2, 28, 29, 29, 29, 29, 30, 30, 30, 31, 32, 33, 34, 35, 36, 37, 38, 39, 39, 39, 40, 2, 28, 29, 29, 29, 29, 30, 30, 30, 31, 32, 34, 35, 36, 37, 38, 39, 39, 39, 40, 2, 28, 29, 29, 29, 29, 30, 30, 30, 31, 32, 34, 35, 36, 37, 38, 39, 39, 39, 40, 2, 2]    1\n",
      "[6, 7]                                                                                                                                                                                                                                                                                              1\n",
      "Name: sequence, dtype: int64\n",
      "bfs\n",
      "Series([], Name: sequence, dtype: int64)\n",
      "dwt2d\n",
      "Series([], Name: sequence, dtype: int64)\n",
      "gaussian\n",
      "Series([], Name: sequence, dtype: int64)\n",
      "hotspot\n",
      "Series([], Name: sequence, dtype: int64)\n",
      "latency\n",
      "Series([], Name: sequence, dtype: int64)\n",
      "midas\n",
      "[0, 6, 7, 6, 7]                                                                                                                                                                                                                                                                                                                                                                                              25\n",
      "[0, 6, 7, 6, 7, 6, 7, 6, 7]                                                                                                                                                                                                                                                                                                                                                                                  25\n",
      "[0, 6, 7, 6, 7, 6, 7, 6, 7, 6, 7, 6, 7]                                                                                                                                                                                                                                                                                                                                                                      25\n",
      "[18, 19, 17, 20, 21, 22, 23, 23, 2, 9, 10, 11, 12, 13, 10, 11, 14, 15, 16, 17]                                                                                                                                                                                                                                                                                                                                4\n",
      "[18, 19, 17, 20, 21, 22, 23, 23, 9, 10, 11, 12, 13, 10, 11, 14, 15, 16, 17]                                                                                                                                                                                                                                                                                                                                   3\n",
      "[42, 19, 17, 43, 21, 22, 23, 23, 2, 2, 9, 10, 11, 12, 13, 10, 11, 14, 15, 16, 17]                                                                                                                                                                                                                                                                                                                             2\n",
      "[18, 19, 17, 20, 21, 22, 23, 23, 2, 2]                                                                                                                                                                                                                                                                                                                                                                        2\n",
      "[18, 19, 17, 20, 21, 22, 23, 23, 2, 2, 9, 10, 11, 12, 13, 10, 11, 14, 15, 16, 17]                                                                                                                                                                                                                                                                                                                             2\n",
      "[0, 2, 9, 10, 11, 12, 13, 10, 11, 14, 15, 16, 17]                                                                                                                                                                                                                                                                                                                                                             2\n",
      "[18, 19, 17, 20, 21, 22, 23, 23, 2, 2, 9, 10, 11, 12, 13, 10, 11, 14, 15, 16, 17, 17, 20, 21, 22, 23, 23, 2, 9, 10, 11, 12, 13, 10, 11, 14, 15, 16, 17]                                                                                                                                                                                                                                                       1\n",
      "[18, 19, 17, 20, 21, 22, 23, 23, 2, 2, 9, 10, 11, 12, 13, 10, 11, 14, 15, 16, 17, 17, 20, 21, 22, 23, 23, 2, 2]                                                                                                                                                                                                                                                                                               1\n",
      "[]                                                                                                                                                                                                                                                                                                                                                                                                            1\n",
      "[0, 9, 10, 11, 12, 13, 10, 11, 14, 15, 16, 17]                                                                                                                                                                                                                                                                                                                                                                1\n",
      "[18, 19, 17, 20, 21, 22, 23, 23, 2, 2, 9, 10, 11, 12, 13, 10, 11, 14, 15, 16, 17, 17, 20, 21, 22, 23, 23, 2, 2, 2, 2]                                                                                                                                                                                                                                                                                         1\n",
      "[0, 17, 20, 21, 22, 23, 23, 2, 9, 10, 11, 12, 13, 10, 11, 14, 15, 16, 17]                                                                                                                                                                                                                                                                                                                                     1\n",
      "[18, 19, 17, 20, 21, 22, 23, 23, 2, 2, 9, 10, 11, 12, 13, 10, 11, 14, 15, 16, 17, 17, 20, 21, 22, 23, 23, 2, 2, 2, 2, 9, 10, 11, 12, 13, 10, 11, 14, 15, 16, 17, 17, 20, 21, 22, 23, 23, 2, 2, 9, 10, 11, 12, 13, 10, 11, 14, 15, 16, 17, 17, 20, 21, 22, 23, 23, 2, 2, 2, 9, 10, 11, 12, 13, 10, 11, 14, 15, 16, 17]                                                                                         1\n",
      "[18, 19, 17, 20, 21, 22, 23, 23, 2, 2, 9, 10, 11, 12, 13, 10, 11, 14, 15, 16, 17, 17, 20, 21, 22, 23, 23, 2, 2, 9, 10, 11, 12, 13, 10, 11, 14, 15, 16, 17, 17, 20, 21, 22, 23, 23, 2, 2, 2, 2, 9, 10, 11, 12, 13, 10, 11, 14, 15, 16, 17, 17, 20, 21, 22, 23, 23, 2, 2, 9, 10, 11, 12, 13, 10, 11, 14, 15, 16, 17, 17, 20, 21, 22, 23, 23, 2, 2, 2, 9, 10, 11, 12, 13, 10, 11, 14, 15, 16, 17]                1\n",
      "[18, 19, 17, 20, 21, 22, 23, 23, 2]                                                                                                                                                                                                                                                                                                                                                                           1\n",
      "[0, 9, 10, 11, 12, 13, 10, 11, 14, 15, 16, 17, 17, 20, 21, 22, 23, 23, 2, 2, 9, 10, 11, 12, 13, 10, 11, 14, 15, 16, 17, 17, 20, 21, 22, 23, 23, 2, 2, 2, 9, 10, 11, 12, 13, 10, 11, 14, 15, 16, 17]                                                                                                                                                                                                           1\n",
      "[0, 2, 2, 34, 35, 41, 2, 28, 29, 29, 29, 29, 30, 30, 30, 31, 32, 34, 35, 36, 37, 38, 39, 39, 39, 40, 2, 2, 28, 29, 29, 29, 29, 30, 30, 30, 31, 32, 34, 35, 36, 37, 38, 39, 39, 39, 40, 2, 28, 29, 29, 29, 29, 30, 30, 30, 31, 32, 34, 35, 36, 37, 38, 39, 39, 39, 40, 2, 2, 28, 29, 29, 29, 29, 30, 30, 30, 31, 32, 34, 35, 36, 37, 38, 39, 39, 39, 40, 34, 35, 41, 2, 2, 34, 35, 41, 2, 28, 29, 29, ...]     1\n",
      "[18, 19]                                                                                                                                                                                                                                                                                                                                                                                                      1\n",
      "[5]                                                                                                                                                                                                                                                                                                                                                                                                           1\n",
      "[0, 2, 2, 34, 35, 41, 2, 28, 29, 29, 29, 29, 30, 30, 30, 31, 32, 34, 35, 36, 37, 38, 39, 39, 39, 40, 2, 2, 28, 29, 29, 29, 29, 30, 30, 30, 31, 32, 34, 35, 36, 37, 38, 39, 39, 39, 40, 2, 28, 29, 29, 29, 29, 30, 30, 30, 31, 32, 34, 35, 36, 37, 38, 39, 39, 39, 40, 2, 2, 28, 29, 29, 29, 29, 30, 30, 30, 31, 32, 34, 35, 36, 37, 38, 39, 39, 39, 40, 34, 35, 41, 2, 2, 34, 35, 41, 2, 28, 29, 29, ...]     1\n",
      "[0, 34, 35, 41]                                                                                                                                                                                                                                                                                                                                                                                               1\n",
      "[0, 33, 34, 35, 36, 37, 38, 39, 39, 39, 40]                                                                                                                                                                                                                                                                                                                                                                   1\n",
      "[0, 2, 2, 28, 29, 29, 29, 29, 30, 30, 30, 31, 32]                                                                                                                                                                                                                                                                                                                                                             1\n",
      "[0, 6, 7, 6, 7, 6, 7, 6, 7, 6, 7, 6, 7, 6, 7, 6, 7, 6, 7, 6, 7, 6, 7, 6, 7, 6, 7, 2, 2, 8, 9, 10, 11, 12, 13, 10, 11, 14, 15, 16, 17]                                                                                                                                                                                                                                                                         1\n",
      "[0, 6, 7, 6, 7, 6, 7, 6, 7, 6, 7, 6, 7, 6, 7, 6, 7, 6, 7, 6, 7, 6, 7, 6, 7, 6, 7, 6, 7, 6, 7, 6, 7, 6, 7, 6, 7, 6, 7, 6, 7]                                                                                                                                                                                                                                                                                   1\n",
      "[0, 6, 7, 6, 7, 6, 7, 6, 7, 6, 7, 6, 7, 6, 7, 6, 7, 6, 7, 6, 7, 6, 7, 6, 7, 6, 7, 6, 7, 6, 7]                                                                                                                                                                                                                                                                                                                 1\n",
      "[0, 6, 7, 6, 7, 6, 7]                                                                                                                                                                                                                                                                                                                                                                                         1\n",
      "[0, 6, 7, 6, 7, 6, 7, 6, 7, 6, 7, 6, 7, 6, 7, 6, 7]                                                                                                                                                                                                                                                                                                                                                           1\n",
      "[0, 6, 7, 6, 7, 6, 7, 6, 7, 6, 7, 6, 7, 6, 7, 6, 7, 6, 7]                                                                                                                                                                                                                                                                                                                                                     1\n",
      "[0, 6, 7]                                                                                                                                                                                                                                                                                                                                                                                                     1\n",
      "[18, 19, 17, 20, 21, 22, 23, 23, 2, 2, 2, 2]                                                                                                                                                                                                                                                                                                                                                                  1\n",
      "Name: sequence, dtype: int64\n",
      "myocyte\n",
      "[1]             3901\n",
      "[1, 1, 1, 2]    3899\n",
      "[0]                3\n",
      "[3]                3\n",
      "[]                 1\n",
      "[0, 1, 1, 2]       1\n",
      "Name: sequence, dtype: int64\n",
      "pathfinder\n",
      "[3]                      2\n",
      "[]                       1\n",
      "[0]                      1\n",
      "[0, 1]                   1\n",
      "[0, 1, 2, 2, 2, 2, 2]    1\n",
      "[1]                      1\n",
      "Name: sequence, dtype: int64\n",
      "resnet50-py\n",
      "[18, 19, 17, 20, 21, 22, 23, 23, 9, 10, 11, 10, 11, 24, 23, 23, 2, 9, 10, 11, 12, 13, 10, 11, 14, 15, 16, 17]                                                                                                                                                                                                                                                                                               10\n",
      "[0, 6, 7, 6, 7, 6, 7, 6, 7, 6, 7, 6, 7, 6, 7, 6, 7, 6, 7, 6, 7, 6, 7, 6, 7, 6, 7, 6, 7, 6, 7, 6, 7, 6, 7, 6, 7]                                                                                                                                                                                                                                                                                              7\n",
      "[18, 19, 17, 20, 21, 22, 23, 23, 9, 10, 11, 10, 11, 24, 23, 23, 2, 2, 9, 10, 11, 12, 13, 10, 11, 14, 15, 16, 17]                                                                                                                                                                                                                                                                                             4\n",
      "[18, 19, 17, 20, 21, 22, 23, 23, 9, 10, 11, 10, 11, 24, 23, 23, 9, 10, 11, 12, 13, 10, 11, 14, 15, 16, 17]                                                                                                                                                                                                                                                                                                   3\n",
      "[0, 6, 7, 6, 7, 6, 7, 6, 7, 6, 7, 6, 7, 6, 7, 6, 7, 6, 7, 6, 7, 6, 7, 6, 7, 6, 7, 6, 7, 6, 7, 6, 7, 6, 7, 6, 7, 6, 7, 6, 7, 6, 7, 6, 7, 6, 7, 6, 7, 6, 7, 6, 7, 6, 7, 6, 7, 6, 7, 6, 7]                                                                                                                                                                                                                      2\n",
      "[0, 6, 7, 6, 7, 6, 7, 6, 7, 6, 7, 6, 7, 6, 7, 6, 7, 6, 7, 6, 7, 6, 7, 6, 7]                                                                                                                                                                                                                                                                                                                                  2\n",
      "[]                                                                                                                                                                                                                                                                                                                                                                                                           1\n",
      "[18, 19, 17, 20, 21, 22, 23, 23, 9, 10, 11, 10, 11, 24, 23, 23, 2, 9, 10, 11, 12, 13, 10, 11, 14, 15, 16, 17, 17, 20, 21, 22, 23, 23, 9, 10, 11, 10, 11, 24, 23, 23, 2, 2, 9, 10, 11, 12, 13, 10, 11, 14, 15, 16, 17, 17, 20, 21, 22, 23, 23, 9, 10, 11, 10, 11, 24, 23, 23, 2, 9, 10, 11, 12, 13, 10, 11, 14, 15, 16, 17, 17, 20, 21, 22, 23, 23, 9, 10, 11, 10, 11, 24, 23, 23, 2, 9, 10, 11, 12, ...]     1\n",
      "[18, 19, 17, 20, 21, 22, 23, 23, 9, 10, 11, 10, 11, 24, 23, 23, 2, 9, 10, 11, 12, 13, 10, 11, 14, 15, 16, 17, 17, 20, 21, 22, 23, 23, 9, 10, 11, 10, 11, 24, 23, 23, 2, 2, 9, 10, 11, 12, 13, 10, 11, 14, 15, 16, 17, 17, 20, 21, 22, 23, 23, 9, 10, 11, 10, 11, 24, 23, 23, 2, 9, 10, 11, 12, 13, 10, 11, 14, 15, 16, 17, 17, 20, 21, 22, 23, 23, 9, 10, 11, 10, 11, 24, 23, 23, 2, 9, 10, 11, 12, ...]     1\n",
      "[18, 19, 17, 20, 21, 22, 23, 23, 9, 10, 11, 10, 11, 24, 23, 23, 2, 9, 10, 11, 12, 13, 10, 11, 14, 15, 16, 17, 17, 20, 21, 22, 23, 23, 9, 10, 11, 10, 11, 24, 23, 23, 2, 2, 9, 10, 11, 12, 13, 10, 11, 14, 15, 16, 17, 17, 20, 21, 22, 23, 23, 9, 10, 11, 10, 11, 24, 23, 23, 2, 9, 10, 11, 12, 13, 10, 11, 14, 15, 16, 17, 17, 20, 21, 22, 23, 23, 9, 10, 11, 10, 11, 24, 23, 23, 2, 9, 10, 11, 12, ...]     1\n",
      "[0, 17, 20, 21, 22, 23, 23, 9, 10, 11, 10, 11, 24, 23, 23, 2, 9, 10, 11, 12, 13, 10, 11, 14, 15, 16, 17, 17, 20, 21, 22, 23, 23, 9, 10, 11, 10, 11, 24, 23, 23, 2, 9, 10, 11, 12, 13, 10, 11, 14, 15, 16, 17, 17, 20, 21, 22, 23, 23, 9, 10, 11, 10, 11, 24, 23, 23, 2, 2, 9, 10, 11, 12, 13, 10, 11, 14, 15, 16, 17]                                                                                        1\n",
      "[18, 19, 17, 20, 21, 22, 23, 23, 9, 10, 11, 10, 11, 24, 23, 23, 2, 9, 10, 11, 12, 13, 10, 11, 14, 15, 16, 17, 17, 20, 21, 22, 23, 23, 9, 10, 11, 10, 11, 24, 23, 23, 2, 9, 10, 11, 12, 13, 10, 11, 14, 15, 16, 17, 17, 20, 21, 22, 23, 23, 9, 10, 11, 10, 11, 24, 23, 23, 2, 2, 9, 10, 11, 12, 13, 10, 11, 14, 15, 16, 17]                                                                                   1\n",
      "[18, 19, 17, 20, 21, 22, 23, 23, 9, 10, 11, 10, 11, 24, 23, 23, 9, 10, 11, 12, 13, 10, 11, 14, 15, 16, 17, 17, 20, 21, 22, 23, 23, 9, 10, 11, 10, 11, 24, 23, 23, 2, 2, 9, 10, 11, 12, 13, 10, 11, 14, 15, 16, 17]                                                                                                                                                                                           1\n",
      "[0, 17, 20, 21, 22, 23, 23]                                                                                                                                                                                                                                                                                                                                                                                  1\n",
      "[0, 9, 10, 11, 10, 11, 24, 23, 23, 2, 9, 10, 11, 12, 13, 10, 11, 14, 15, 16, 17]                                                                                                                                                                                                                                                                                                                             1\n",
      "[5]                                                                                                                                                                                                                                                                                                                                                                                                          1\n",
      "[18, 19]                                                                                                                                                                                                                                                                                                                                                                                                     1\n",
      "[0, 6, 7, 6, 7, 6, 7, 6, 7, 6, 7, 6, 7, 6, 7, 6, 7, 8, 9, 10, 11, 12, 13, 10, 11, 14, 15, 16, 17]                                                                                                                                                                                                                                                                                                            1\n",
      "[0, 6, 7, 6, 7, 6, 7, 6, 7, 6, 7, 6, 7, 6, 7, 6, 7, 6, 7, 6, 7, 6, 7, 6, 7, 6, 7, 6, 7, 6, 7, 6, 7, 6, 7, 6, 7, 6, 7, 6, 7, 6, 7, 6, 7, 6, 7, 6, 7]                                                                                                                                                                                                                                                          1\n",
      "[0, 6, 7, 6, 7, 6, 7, 6, 7, 6, 7, 6, 7]                                                                                                                                                                                                                                                                                                                                                                      1\n",
      "[0, 6, 7, 6, 7, 6, 7, 6, 7, 6, 7, 6, 7, 6, 7, 6, 7, 6, 7, 6, 7, 6, 7, 6, 7, 6, 7, 6, 7, 6, 7, 6, 7, 6, 7, 6, 7, 6, 7, 6, 7, 6, 7, 6, 7, 6, 7, 6, 7, 6, 7, 6, 7, 6, 7, 6, 7, 6, 7, 6, 7, 6, 7, 6, 7, 6, 7, 6, 7, 6, 7, 6, 7, 6, 7, 6, 7, 6, 7, 6, 7, 6, 7, 6, 7, 6, 7, 6, 7, 6, 7, 6, 7, 6, 7, 6, 7, 6, 7, 6, ...]                                                                                            1\n",
      "[6, 7]                                                                                                                                                                                                                                                                                                                                                                                                       1\n",
      "Name: sequence, dtype: int64\n",
      "resnext101\n",
      "[18, 19, 17, 20, 21, 22, 23, 23, 9, 10, 11, 10, 11, 24, 23, 23, 2, 9, 10, 11, 12, 13, 10, 11, 14, 15, 16, 17]                                                                                                                                                                                                                                                                                               7\n",
      "[0, 6, 7, 6, 7, 6, 7, 6, 7, 6, 7, 6, 7, 6, 7, 6, 7, 6, 7, 6, 7, 6, 7, 6, 7]                                                                                                                                                                                                                                                                                                                                 5\n",
      "[0, 6, 7, 6, 7, 6, 7, 6, 7, 6, 7, 6, 7, 6, 7, 6, 7, 6, 7, 6, 7, 6, 7, 6, 7, 6, 7, 6, 7, 6, 7, 6, 7, 6, 7, 6, 7, 6, 7, 6, 7, 6, 7, 6, 7, 6, 7, 6, 7, 6, 7, 6, 7, 6, 7, 6, 7, 6, 7, 6, 7, 6, 7, 6, 7, 6, 7, 6, 7, 6, 7, 6, 7, 6, 7, 6, 7, 6, 7, 6, 7, 6, 7, 6, 7]                                                                                                                                             5\n",
      "[0, 6, 7, 6, 7, 6, 7, 6, 7, 6, 7, 6, 7, 6, 7, 6, 7, 6, 7, 6, 7, 6, 7, 6, 7, 6, 7, 6, 7, 6, 7, 6, 7, 6, 7, 6, 7, 6, 7, 6, 7, 6, 7, 6, 7, 6, 7, 6, 7, 6, 7, 6, 7, 6, 7, 6, 7, 6, 7, 6, 7, 6, 7, 6, 7, 6, 7, 6, 7, 6, 7, 6, 7]                                                                                                                                                                                 4\n",
      "[0, 6, 7, 6, 7, 6, 7, 6, 7, 6, 7, 6, 7]                                                                                                                                                                                                                                                                                                                                                                     3\n",
      "[18, 19, 17, 20, 21, 22, 23, 23, 9, 10, 11, 10, 11, 24, 23, 23, 2, 2, 9, 10, 11, 12, 13, 10, 11, 14, 15, 16, 17, 17, 20, 21, 22, 23, 23, 9, 10, 11, 10, 11, 24, 23, 23, 2, 9, 10, 11, 12, 13, 10, 11, 14, 15, 16, 17]                                                                                                                                                                                       3\n",
      "[18, 19, 17, 20, 21, 22, 23, 23, 9, 10, 11, 10, 11, 24, 23, 23, 9, 10, 11, 12, 13, 10, 11, 14, 15, 16, 17]                                                                                                                                                                                                                                                                                                  3\n",
      "[0, 6, 7, 6, 7, 6, 7, 6, 7, 6, 7, 6, 7, 6, 7, 6, 7, 6, 7, 6, 7, 6, 7, 6, 7, 6, 7, 6, 7, 6, 7, 6, 7, 6, 7, 6, 7]                                                                                                                                                                                                                                                                                             2\n",
      "[18, 19]                                                                                                                                                                                                                                                                                                                                                                                                    2\n",
      "[]                                                                                                                                                                                                                                                                                                                                                                                                          1\n",
      "[0, 17, 20, 21, 22, 23, 23, 9, 10, 11, 10, 11, 24, 23, 23, 2, 2, 9, 10, 11, 12, 13, 10, 11, 14, 15, 16, 17, 17, 20, 21, 22, 23, 23, 9, 10, 11, 10, 11, 24, 23, 23, 2, 9, 10, 11, 12, 13, 10, 11, 14, 15, 16, 17, 17, 20, 21, 22, 23, 23, 9, 10, 11, 10, 11, 24, 23, 23, 2, 9, 10, 11, 12, 13, 10, 11, 14, 15, 16, 17, 17, 20, 21, 22, 23, 23, 9, 10, 11, 10, 11, 24, 23, 23, 2, 2, 9, 10, 11, 12, ...]      1\n",
      "[18, 19, 17, 20, 21, 22, 23, 23, 9, 10, 11, 10, 11, 24, 23, 23, 2, 9, 10, 11, 12, 13, 10, 11, 14, 15, 16, 17, 17, 20, 21, 22, 23, 23, 9, 10, 11, 10, 11, 24, 23, 23, 2, 2, 9, 10, 11, 12, 13, 10, 11, 14, 15, 16, 17, 17, 20, 21, 22, 23, 23, 9, 10, 11, 10, 11, 24, 23, 23, 2, 9, 10, 11, 12, 13, 10, 11, 14, 15, 16, 17, 17, 20, 21, 22, 23, 23, 9, 10, 11, 10, 11, 24, 23, 23, 2, 9, 10, 11, 12, ...]    1\n",
      "[0, 17, 20, 21, 22, 23, 23, 9, 10, 11, 10, 11, 24, 23, 23, 2, 9, 10, 11, 12, 13, 10, 11, 14, 15, 16, 17, 17, 20, 21, 22, 23, 23, 9, 10, 11, 10, 11, 24, 23, 23, 2, 2, 9, 10, 11, 12, 13, 10, 11, 14, 15, 16, 17, 17, 20, 21, 22, 23, 23, 9, 10, 11, 10, 11, 24, 23, 23, 2, 9, 10, 11, 12, 13, 10, 11, 14, 15, 16, 17, 17, 20, 21, 22, 23, 23, 9, 10, 11, 10, 11, 24, 23, 23, 2, 9, 10, 11, 12, 13, ...]     1\n",
      "[0, 9, 10, 11, 10, 11, 24, 23, 23, 2, 9, 10, 11, 12, 13, 10, 11, 14, 15, 16, 17]                                                                                                                                                                                                                                                                                                                            1\n",
      "[18, 19, 17, 20, 21, 22, 23, 23]                                                                                                                                                                                                                                                                                                                                                                            1\n",
      "[18, 19, 17, 20, 21, 22, 23, 23, 9, 10, 11, 10, 11, 24, 23, 23, 2, 9, 10, 11, 12, 13, 10, 11, 14, 15, 16, 17, 17, 20, 21, 22, 23, 23, 9, 10, 11, 10, 11, 24, 23, 23, 2, 2, 9, 10, 11, 12, 13, 10, 11, 14, 15, 16, 17, 17, 20, 21, 22, 23, 23, 9, 10, 11, 10, 11, 24, 23, 23, 2, 9, 10, 11, 12, 13, 10, 11, 14, 15, 16, 17, 17, 20, 21, 22, 23, 23, 9, 10, 11, 10, 11, 24, 23, 23, 2, 9, 10, 11, 12, ...]    1\n",
      "[18, 19, 17, 20, 21, 22, 23, 23, 9, 10, 11, 10, 11, 24, 23, 23, 2, 2, 9, 10, 11, 12, 13, 10, 11, 14, 15, 16, 17]                                                                                                                                                                                                                                                                                            1\n",
      "[0, 17, 20, 21, 22, 23, 23, 9, 10, 11, 10, 11, 24, 23, 23, 9, 10, 11, 12, 13, 10, 11, 14, 15, 16, 17, 17, 20, 21, 22, 23, 23, 9, 10, 11, 10, 11, 24, 23, 23, 2, 2, 9, 10, 11, 12, 13, 10, 11, 14, 15, 16, 17, 17, 20, 21, 22, 23, 23, 9, 10, 11, 10, 11, 24, 23, 23, 2, 9, 10, 11, 12, 13, 10, 11, 14, 15, 16, 17, 17, 20, 21, 22, 23, 23, 9, 10, 11, 10, 11, 24, 23, 23, 2, 9, 10, 11, 12, 13, 10, ...]    1\n",
      "[5]                                                                                                                                                                                                                                                                                                                                                                                                         1\n",
      "[0, 6, 7, 6, 7, 6, 7, 6, 7, 6, 7, 6, 7, 6, 7, 6, 7, 8, 9, 10, 11, 12, 13, 10, 11, 14, 15, 16, 17]                                                                                                                                                                                                                                                                                                           1\n",
      "[0, 6, 7, 6, 7, 6, 7, 6, 7, 6, 7, 6, 7, 6, 7, 6, 7, 6, 7, 6, 7, 6, 7, 6, 7, 6, 7, 6, 7, 6, 7, 6, 7, 6, 7, 6, 7, 6, 7, 6, 7, 6, 7, 6, 7, 6, 7, 6, 7, 6, 7, 6, 7, 6, 7, 6, 7, 6, 7, 6, 7]                                                                                                                                                                                                                     1\n",
      "[0, 6, 7, 6, 7, 6, 7]                                                                                                                                                                                                                                                                                                                                                                                       1\n",
      "[0, 6, 7, 6, 7, 6, 7, 6, 7, 6, 7, 6, 7, 6, 7, 6, 7, 6, 7, 6, 7, 6, 7, 6, 7, 6, 7, 6, 7, 6, 7, 6, 7, 6, 7, 6, 7, 6, 7, 6, 7, 6, 7, 6, 7, 6, 7, 6, 7, 6, 7, 6, 7, 6, 7, 6, 7, 6, 7, 6, 7, 6, 7, 6, 7, 6, 7]                                                                                                                                                                                                   1\n",
      "[0, 6, 7, 6, 7, 6, 7, 6, 7, 6, 7, 6, 7, 6, 7, 6, 7, 6, 7, 6, 7, 6, 7, 6, 7, 6, 7, 6, 7, 6, 7, 6, 7, 6, 7, 6, 7, 6, 7, 6, 7, 6, 7, 6, 7, 6, 7, 6, 7]                                                                                                                                                                                                                                                         1\n",
      "[0, 6, 7, 6, 7, 6, 7, 6, 7, 6, 7, 6, 7, 6, 7, 6, 7, 6, 7, 6, 7, 6, 7, 6, 7, 6, 7, 6, 7, 6, 7, 6, 7, 6, 7, 6, 7, 6, 7, 6, 7, 6, 7, 6, 7, 6, 7, 6, 7, 6, 7, 6, 7, 6, 7, 6, 7, 6, 7, 6, 7, 6, 7, 6, 7, 6, 7, 6, 7, 6, 7, 6, 7, 6, 7, 6, 7, 6, 7, 6, 7, 6, 7, 6, 7, 6, 7, 6, 7, 6, 7, 6, 7, 6, 7, 6, 7, 6, 7, 6, ...]                                                                                           1\n",
      "[6, 7]                                                                                                                                                                                                                                                                                                                                                                                                      1\n",
      "Name: sequence, dtype: int64\n",
      "resnext50\n",
      "Series([], Name: sequence, dtype: int64)\n",
      "srad_v1\n",
      "[1]                   101\n",
      "[1, 2, 2, 2, 2, 2]     99\n",
      "[3]                    11\n",
      "[0]                     7\n",
      "[0, 1]                  4\n",
      "[]                      1\n",
      "[0, 1, 2, 2, 2, 2]      1\n",
      "[1, 2, 2, 2]            1\n",
      "Name: sequence, dtype: int64\n",
      "vgg19\n",
      "[0, 6, 7, 6, 7]                                                                                                                                                                                                                                                                                                                                                                                            4\n",
      "[0, 6, 7, 6, 7, 6, 7, 6, 7]                                                                                                                                                                                                                                                                                                                                                                                3\n",
      "[18, 19, 17, 20, 21, 22, 23, 23, 2, 2, 9, 10, 11, 12, 13, 10, 11, 14, 15, 16, 17]                                                                                                                                                                                                                                                                                                                          3\n",
      "[18, 19]                                                                                                                                                                                                                                                                                                                                                                                                   2\n",
      "[]                                                                                                                                                                                                                                                                                                                                                                                                         1\n",
      "[0, 17, 20, 21, 22, 23, 23, 2, 2, 2, 9, 10, 11, 12, 13, 10, 11, 14, 15, 16, 17]                                                                                                                                                                                                                                                                                                                            1\n",
      "[18, 19, 17, 20, 21, 22, 23, 23, 2, 2, 9, 10, 11, 12, 13, 10, 11, 14, 15, 16, 17, 17, 20, 21, 22, 23, 23, 2, 2, 9, 10, 11, 12, 13, 10, 11, 14, 15, 16, 17, 17, 20, 21, 22, 23, 23, 2, 2, 9, 10, 11, 12, 13, 10, 11, 14, 15, 16, 17, 17, 20, 21, 22, 23, 23, 2, 2, 2, 2, 28, 29, 29, 29, 29, 30, 30, 30, 31, 32, 33, 34, 35, 36, 37, 38, 39, 39, 39, 40, 2, 28, 29, 29, 29, 29, 30, 30, 30, 31, 32, ...]    1\n",
      "[0, 17, 20, 21, 22, 23, 23, 2, 2, 9, 10, 11, 12, 13, 10, 11, 14, 15, 16, 17, 17, 20, 21, 22, 23, 23, 2, 2, 9, 10, 11, 12, 13, 10, 11, 14, 15, 16, 17, 17, 20, 21, 22, 23, 23, 2, 2, 2, 9, 10, 11, 12, 13, 10, 11, 14, 15, 16, 17]                                                                                                                                                                          1\n",
      "[18, 19, 17, 20, 21, 22, 23, 23, 2, 2, 9, 10, 11, 12, 13, 10, 11, 14, 15, 16, 17, 17, 20, 21, 22, 23, 23, 2, 2, 9, 10, 11, 12, 13, 10, 11, 14, 15, 16, 17, 17, 20, 21, 22, 23, 23, 2, 2, 2, 9, 10, 11, 12, 13, 10, 11, 14, 15, 16, 17]                                                                                                                                                                     1\n",
      "[18, 19, 17, 20, 21, 22, 23, 23, 2, 2, 2, 9, 10, 11, 12, 13, 10, 11, 14, 15, 16, 17]                                                                                                                                                                                                                                                                                                                       1\n",
      "[0, 9, 10, 11, 12, 13, 10, 11, 14, 15, 16, 17]                                                                                                                                                                                                                                                                                                                                                             1\n",
      "[5]                                                                                                                                                                                                                                                                                                                                                                                                        1\n",
      "[18, 19, 17, 20, 21, 22, 23, 23, 2, 2]                                                                                                                                                                                                                                                                                                                                                                     1\n",
      "[0, 8, 9, 10, 11, 12, 13, 10, 11, 14, 15, 16, 17]                                                                                                                                                                                                                                                                                                                                                          1\n",
      "[0, 6, 7, 6, 7, 6, 7, 6, 7, 6, 7, 6, 7, 6, 7, 6, 7, 6, 7, 6, 7]                                                                                                                                                                                                                                                                                                                                            1\n",
      "[0, 6, 7, 6, 7, 6, 7, 6, 7, 6, 7, 6, 7, 6, 7, 6, 7, 6, 7]                                                                                                                                                                                                                                                                                                                                                  1\n",
      "[6, 7]                                                                                                                                                                                                                                                                                                                                                                                                     1\n",
      "Name: sequence, dtype: int64\n",
      "yolop\n",
      "[6, 7]                                                                                                                                                                      234\n",
      "[0, 2, 2]                                                                                                                                                                    19\n",
      "[18, 19, 17, 20, 21, 22, 23, 23, 9, 10, 11, 10, 11, 24, 23, 23, 2, 2, 2, 2, 9, 10, 11, 12, 13, 10, 11, 14, 15, 16, 17]                                                        9\n",
      "[0, 9, 10, 11, 10, 11, 24, 23, 23, 2]                                                                                                                                         8\n",
      "[0, 2, 9, 10, 11, 12, 13, 10, 11, 14, 15, 16, 17]                                                                                                                             5\n",
      "                                                                                                                                                                           ... \n",
      "[18, 19, 17, 20, 21, 22, 23, 23, 9, 10, 11, 10, 11, 24, 23, 23, 2, 2, 2, 2, 2, 2]                                                                                             1\n",
      "[0, 2, 9, 10, 11, 12, 13, 10, 11, 14, 15, 16, 17, 17, 20, 21, 22, 23, 23, 9, 10, 11, 10, 11, 24, 23, 23, 2, 2, 2, 2, 9, 10, 11, 12, 13, 10, 11, 14, 15, 16, 17]               1\n",
      "[0, 6, 7, 2]                                                                                                                                                                  1\n",
      "[0, 2, 2, 9, 10, 11, 12, 13, 10, 11, 14, 15, 16, 17, 17, 20, 21, 22, 23, 23, 9, 10, 11, 10, 11, 24, 23, 23, 2, 2, 2, 2, 2, 2, 9, 10, 11, 12, 13, 10, 11, 14, 15, 16, 17]      1\n",
      "[]                                                                                                                                                                            1\n",
      "Name: sequence, Length: 64, dtype: int64\n"
     ]
    }
   ],
   "source": [
    "# count the amount of similar sequences in each benchmark\n",
    "for benchmark in df.index.levels[0]:\n",
    "    print(benchmark)\n",
    "    print(df.loc[benchmark, 'sequence'].value_counts())"
   ]
  },
  {
   "cell_type": "markdown",
   "metadata": {},
   "source": [
    "### Estimating how many times optimistic evaluation would be a thing..."
   ]
  },
  {
   "cell_type": "code",
   "execution_count": 125,
   "metadata": {},
   "outputs": [
    {
     "data": {
      "text/plain": [
       "Index(['alexnet', 'midas', 'myocyte', 'pathfinder', 'resnet50-py',\n",
       "       'resnext101', 'srad_v1', 'vgg19', 'yolop'],\n",
       "      dtype='object', name='benchmark')"
      ]
     },
     "execution_count": 125,
     "metadata": {},
     "output_type": "execute_result"
    }
   ],
   "source": [
    "df_sequence = df.dropna(subset=['sequence'])\n",
    "# One has to reset the index to remove benchmarks with no sequences\n",
    "df_sequence.reset_index(inplace=True)\n",
    "df_sequence.set_index(['benchmark', 'call_id'], inplace=True)\n",
    "df_sequence.index.levels[0].unique()"
   ]
  },
  {
   "cell_type": "code",
   "execution_count": 164,
   "metadata": {},
   "outputs": [
    {
     "name": "stdout",
     "output_type": "stream",
     "text": [
      "alexnet\n",
      "midas\n",
      "myocyte\n",
      "pathfinder\n",
      "resnet50-py\n",
      "resnext101\n",
      "srad_v1\n",
      "vgg19\n",
      "yolop\n"
     ]
    }
   ],
   "source": [
    "data_1 = {'benchmark': [], 'sequence': [], 'count': []}\n",
    "data_2 = {'benchmark': [], 'sequence': [], 'count': []}\n",
    "data_3 = {'benchmark': [], 'sequence': [], 'count': []}\n",
    "for benchmark in df_sequence.index.levels[0]:\n",
    "    print(benchmark)\n",
    "    sequence_1 = None\n",
    "    sequence_2 = None\n",
    "    sequence_3 = None\n",
    "    count_1 = 0\n",
    "    count_2 = 0\n",
    "    count_3 = 0\n",
    "\n",
    "    for sequence in df_sequence.loc[benchmark, 'sequence']:\n",
    "        if sequence == sequence_1:\n",
    "            count_1 += 1\n",
    "        elif count_1 > 0:\n",
    "            data_1['benchmark'].append(benchmark)\n",
    "            data_1['sequence'].append(sequence_1)\n",
    "            data_1['count'].append(count_1)\n",
    "            # print(sequence, count)\n",
    "            count_1 = 0\n",
    "        if sequence == sequence_2:\n",
    "            count_2 += 1\n",
    "        elif count_2 > 0:\n",
    "            data_2['benchmark'].append(benchmark)\n",
    "            data_2['sequence'].append(sequence_2)\n",
    "            data_2['count'].append(count_2)\n",
    "            # print(sequence, count)\n",
    "            count_2 = 0\n",
    "        if sequence == sequence_3:\n",
    "            count_3 += 1\n",
    "        elif count_3 > 0:\n",
    "            data_3['benchmark'].append(benchmark)\n",
    "            data_3['sequence'].append(sequence_3)\n",
    "            data_3['count'].append(count_3)\n",
    "            # print(sequence, count)\n",
    "            count_3 = 0\n",
    "\n",
    "        sequence_3 = sequence_2\n",
    "        sequence_2 = sequence_1\n",
    "        sequence_1 = sequence\n",
    "\n",
    "df_1 = pd.DataFrame(data_1)\n",
    "df_1['pattern'] = 1\n",
    "df_2 = pd.DataFrame(data_2)\n",
    "df_2['pattern'] = 2\n",
    "df_3 = pd.DataFrame(data_3)\n",
    "df_3['pattern'] = 3\n",
    "optimistic_df = pd.concat([df_1, df_2, df_3])\n",
    "optimistic_df.set_index(['benchmark', 'pattern'], inplace=True)"
   ]
  },
  {
   "cell_type": "code",
   "execution_count": 173,
   "metadata": {},
   "outputs": [
    {
     "name": "stdout",
     "output_type": "stream",
     "text": [
      "Percentage among all synch sequences that would benefit from being directly repeating i-th last sequence\n",
      "1 : 2.114140480591497 %\n",
      "2 : 94.29297597042515 %\n",
      "3 : 2.634011090573013 %\n"
     ]
    }
   ],
   "source": [
    "# Percentage among all synch calls that would benefit from being optimistically executed\n",
    "print(\"Percentage among all synch sequences that would benefit from being directly repeating i-th last sequence\")\n",
    "for i in range(1,4):\n",
    "    print(i, \":\", optimistic_df.xs(i, level=1)['count'].sum() / df.loc[df[\"op\"] == \"Synchronization\"].shape[0]*100, \"%\")\n",
    "\n"
   ]
  },
  {
   "cell_type": "code",
   "execution_count": 175,
   "metadata": {},
   "outputs": [
    {
     "data": {
      "text/html": [
       "<div>\n",
       "<style scoped>\n",
       "    .dataframe tbody tr th:only-of-type {\n",
       "        vertical-align: middle;\n",
       "    }\n",
       "\n",
       "    .dataframe tbody tr th {\n",
       "        vertical-align: top;\n",
       "    }\n",
       "\n",
       "    .dataframe thead th {\n",
       "        text-align: right;\n",
       "    }\n",
       "</style>\n",
       "<table border=\"1\" class=\"dataframe\">\n",
       "  <thead>\n",
       "    <tr style=\"text-align: right;\">\n",
       "      <th></th>\n",
       "      <th>sequence</th>\n",
       "      <th>count</th>\n",
       "    </tr>\n",
       "    <tr>\n",
       "      <th>pattern</th>\n",
       "      <th></th>\n",
       "      <th></th>\n",
       "    </tr>\n",
       "  </thead>\n",
       "  <tbody>\n",
       "    <tr>\n",
       "      <th>1</th>\n",
       "      <td>[0]</td>\n",
       "      <td>2</td>\n",
       "    </tr>\n",
       "    <tr>\n",
       "      <th>1</th>\n",
       "      <td>[1]</td>\n",
       "      <td>1</td>\n",
       "    </tr>\n",
       "    <tr>\n",
       "      <th>2</th>\n",
       "      <td>[0]</td>\n",
       "      <td>1</td>\n",
       "    </tr>\n",
       "    <tr>\n",
       "      <th>2</th>\n",
       "      <td>[1, 1, 1, 2]</td>\n",
       "      <td>7797</td>\n",
       "    </tr>\n",
       "    <tr>\n",
       "      <th>3</th>\n",
       "      <td>[1, 1, 1, 2]</td>\n",
       "      <td>1</td>\n",
       "    </tr>\n",
       "  </tbody>\n",
       "</table>\n",
       "</div>"
      ],
      "text/plain": [
       "             sequence  count\n",
       "pattern                     \n",
       "1                 [0]      2\n",
       "1                 [1]      1\n",
       "2                 [0]      1\n",
       "2        [1, 1, 1, 2]   7797\n",
       "3        [1, 1, 1, 2]      1"
      ]
     },
     "execution_count": 175,
     "metadata": {},
     "output_type": "execute_result"
    }
   ],
   "source": [
    "optimistic_df.loc['myocyte']"
   ]
  },
  {
   "cell_type": "code",
   "execution_count": 207,
   "metadata": {},
   "outputs": [
    {
     "name": "stdout",
     "output_type": "stream",
     "text": [
      "13\n",
      "alexnet\n",
      "1 : 23.076923076923077 %\n",
      "midas\n",
      "1 : 1.7391304347826086 %\n",
      "2 : 5.217391304347826 %\n",
      "3 : 59.130434782608695 %\n",
      "myocyte\n",
      "1 : 0.038422131147540985 %\n",
      "2 : 99.8719262295082 %\n",
      "3 : 0.012807377049180328 %\n",
      "resnet50-py\n",
      "1 : 20.454545454545457 %\n",
      "2 : 9.090909090909092 %\n",
      "3 : 18.181818181818183 %\n",
      "resnext101\n",
      "1 : 17.647058823529413 %\n",
      "2 : 5.88235294117647 %\n",
      "3 : 5.88235294117647 %\n",
      "srad_v1\n",
      "1 : 3.5555555555555554 %\n",
      "2 : 90.66666666666666 %\n",
      "3 : 1.7777777777777777 %\n",
      "vgg19\n"
     ]
    },
    {
     "name": "stderr",
     "output_type": "stream",
     "text": [
      "/tmp/ipykernel_17080/59046860.py:8: PerformanceWarning: indexing past lexsort depth may impact performance.\n",
      "  print(i, \":\", (optimistic_df.xs((benchmark, i))['count'].sum() / synch_tot.loc[benchmark]['op']) * 100, \"%\")\n"
     ]
    },
    {
     "name": "stdout",
     "output_type": "stream",
     "text": [
      "1 : 20.0 %\n",
      "2 : 20.0 %\n",
      "3 : 4.0 %\n",
      "yolop\n",
      "1 : 39.130434782608695 %\n",
      "2 : 38.58695652173913 %\n",
      "3 : 38.858695652173914 %\n"
     ]
    }
   ],
   "source": [
    "# Percentage among all synch calls that would benefit from being optimistically executed for each benchmark\n",
    "synch_tot = df.loc[df[\"op\"] == \"Synchronization\"].groupby(\"benchmark\").count()\n",
    "print(synch_tot.loc['alexnet']['op'])\n",
    "for benchmark in optimistic_df.index.levels[0]:\n",
    "    print(benchmark)\n",
    "    for i in optimistic_df.index.levels[1]:\n",
    "        try:\n",
    "            print(i, \":\", (optimistic_df.xs((benchmark, i))['count'].sum() / synch_tot.loc[benchmark]['op']) * 100, \"%\")\n",
    "        except KeyError: \n",
    "            pass # This happens when they are not such patterns in the benchmark"
   ]
  }
 ],
 "metadata": {
  "kernelspec": {
   "display_name": "Python 3.8.10 64-bit",
   "language": "python",
   "name": "python3"
  },
  "language_info": {
   "codemirror_mode": {
    "name": "ipython",
    "version": 3
   },
   "file_extension": ".py",
   "mimetype": "text/x-python",
   "name": "python",
   "nbconvert_exporter": "python",
   "pygments_lexer": "ipython3",
   "version": "3.8.10"
  },
  "orig_nbformat": 4,
  "vscode": {
   "interpreter": {
    "hash": "916dbcbb3f70747c44a77c7bcd40155683ae19c65e1c03b4aa3499c5328201f1"
   }
  }
 },
 "nbformat": 4,
 "nbformat_minor": 2
}
